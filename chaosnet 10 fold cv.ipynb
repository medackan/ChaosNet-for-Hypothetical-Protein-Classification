{
 "cells": [
  {
   "cell_type": "code",
   "execution_count": 1,
   "id": "357b1386",
   "metadata": {},
   "outputs": [],
   "source": [
    "import numpy as np\n",
    "import pandas as pd\n",
    "import matplotlib.pyplot as plt\n",
    "import logging\n",
    "from argparse import ArgumentParser\n",
    "from decimal import *\n",
    "import math\n",
    "import numpy.matlib\n",
    "import types\n",
    "import random\n",
    "from sklearn.metrics.pairwise import cosine_similarity\n",
    "from sklearn.model_selection import train_test_split\n",
    "from sklearn.metrics import confusion_matrix as cm\n",
    "import os\n",
    "from sklearn.model_selection import KFold\n",
    "from sklearn.metrics import (precision_score, recall_score,f1_score, accuracy_score,mean_squared_error,mean_absolute_error)"
   ]
  },
  {
   "cell_type": "raw",
   "id": "c0bddd82",
   "metadata": {},
   "source": [
    "import warnings\n",
    "warnings.simplefilter(\"ignore\", UserWarning)\n",
    "\n",
    "import the_module_that_warns"
   ]
  },
  {
   "cell_type": "code",
   "execution_count": 2,
   "id": "14d988e3",
   "metadata": {},
   "outputs": [],
   "source": [
    "\n",
    "def parameter_file(data_name):\n",
    "        FOLD_NO = 10\n",
    "        a = 0.0\n",
    "        c = 1.0\n",
    "        b = 0.89 # Found by hyperparametertuning \n",
    "        q = 0.499\n",
    "        length = 20000\n",
    "        num_classes = 2  \n",
    "        epsilon = 0.043\n",
    "        return a, b, c, q, length, num_classes, epsilon, FOLD_NO"
   ]
  },
  {
   "cell_type": "code",
   "execution_count": 3,
   "id": "5692f69e",
   "metadata": {},
   "outputs": [],
   "source": [
    "def skew_tent(x,a,b,c):\n",
    "# b is the parameters of the map.a and c are 0 and 1 respectively.\n",
    "# GLS maps are piece wise linear\n",
    "# Based on the value of check- the function will return any of the two diffrent maps.  If Check = \"Sk-T\", \n",
    "# then skew-tent map is returned else skew-binary map is returned.\n",
    "        if x < b:\n",
    "            xn = ((c - a)*(x-a))/(b - a)\n",
    "        else:\n",
    "            xn = ((-(c-a)*(x-b))/(c - b)) + (c - a)\n",
    "        return xn"
   ]
  },
  {
   "cell_type": "code",
   "execution_count": 4,
   "id": "8c62a8c2",
   "metadata": {},
   "outputs": [],
   "source": [
    "def iterations(q, a, b, c, length):\n",
    "    #The function return a time series and its index values \n",
    "    timeseries = (np.zeros((length,2)))\n",
    "    timeseries[0,0] = q\n",
    "    for i in range(1, length):\n",
    "        timeseries[i,0] = skew_tent((timeseries[i-1,0]), a, b, c)\n",
    "        timeseries[i,1] = np.int(i)\n",
    "    return timeseries"
   ]
  },
  {
   "cell_type": "code",
   "execution_count": 5,
   "id": "4adcc1e9",
   "metadata": {},
   "outputs": [],
   "source": [
    "\n",
    "def firingtime_calculation(X_train, timeseries, epsilon):\n",
    "# Code for calculating firing time\n",
    "    M = X_train.shape[0]\n",
    "    N = X_train.shape[1]\n",
    "    firingtime = np.zeros((M,N))\n",
    "    for i in range(0,M):\n",
    "        for j in range(0,N):\n",
    "            A = (np.abs((X_train[i,j]) - timeseries[:,0]) < epsilon)\n",
    "            firingtime[i,j] = timeseries[A.tolist().index(True),1]\n",
    "    return firingtime"
   ]
  },
  {
   "cell_type": "code",
   "execution_count": 6,
   "id": "f7024cbc",
   "metadata": {},
   "outputs": [],
   "source": [
    "def probability_calculation(X_train, timeseries, b, epsilon):\n",
    "    # Code for calculating tt-ss method based feature extraction\n",
    "    M = X_train.shape[0]\n",
    "    N = X_train.shape[1]\n",
    "    probability = np.zeros((M,N))\n",
    "    for i in range(0,M):\n",
    "        for j in range(0,N):\n",
    "            A = (np.abs(X_train[i,j] - timeseries[:,0]) < epsilon)\n",
    "            #firingtime[i,j] = timeseries[A.tolist().index(True),1]\n",
    "            freq = (timeseries[0:np.int(timeseries[A.tolist().index(True),1]),0] - b < 0)\n",
    "            if len(freq) == 0:\n",
    "                probability[i, j] = 0\n",
    "            else: \n",
    "                probability[i,j] = freq.tolist().count(False)/np.float(len(freq))\n",
    "    return probability "
   ]
  },
  {
   "cell_type": "code",
   "execution_count": 7,
   "id": "f6fff572",
   "metadata": {},
   "outputs": [],
   "source": [
    "# code for Caluculating the mean representation vectors\n",
    "def class_avg_distance(DistMat, y_train, lab):\n",
    "    samples = y_train.shape[0]\n",
    "    P = y_train.tolist().count([lab])\n",
    "    Q = DistMat.shape[1]\n",
    "    class_dist = np.zeros((P,Q))\n",
    "    k =0\n",
    "    for i in range(0, samples):\n",
    "        if (y_train[i] == lab):\n",
    "            class_dist[k,:]=DistMat[i,:]\n",
    "            k = k+1\n",
    "    return np.sum(class_dist, axis = 0)/class_dist.shape[0]"
   ]
  },
  {
   "cell_type": "code",
   "execution_count": 8,
   "id": "c245168e",
   "metadata": {},
   "outputs": [],
   "source": [
    "\n",
    "def cosine_similar_measure(test_firingtime, y_test, a, b, c, avg_class_dist):    \n",
    "    i = 0\n",
    "    y_pred_val = []\n",
    "    sim = []\n",
    "    tot_sim = []\n",
    "    for a_val in test_firingtime:\n",
    "        sim = []\n",
    "        for b_val in avg_class_dist:\n",
    "            sim.append(cosine_similarity(a_val.reshape(1,len(a_val)),b_val.reshape(1, len(b_val))))\n",
    "        tot_sim.append(sim)\n",
    "        y_pred_val.append(np.argmax(tot_sim[i]))\n",
    "        i = i+1\n",
    "    accuracy = accuracy_score(y_test, y_pred_val)*100\n",
    "    recall = recall_score(y_test, y_pred_val , average=\"macro\")\n",
    "    precision = precision_score(y_test, y_pred_val , average=\"macro\")\n",
    "    f1 = f1_score(y_test, y_pred_val, average=\"macro\")\n",
    "    cma = cm(y_test,y_pred_val)  \n",
    "\n",
    "    #print(\"Confusion matrix\\n\", cma)\n",
    "    return y_pred_val"
   ]
  },
  {
   "cell_type": "code",
   "execution_count": 9,
   "id": "e6eae170",
   "metadata": {},
   "outputs": [],
   "source": [
    "def class_wise_data(X_train, y_train, lab):\n",
    "## This code takes all data from a given class and stores in the matrix data\n",
    "    N = len(y_train)\n",
    "    l = y_train.tolist().count(lab)\n",
    "    label = lab * np.ones((l,1))\n",
    "    data = np.zeros((l,X_train.shape[1]))\n",
    "    p = 0\n",
    "    for i in range(0, N):\n",
    "        if (y_train[i] == lab):\n",
    "            data[p, :] = X_train[i, :]\n",
    "            p = p+1\n",
    "    return data, label\n"
   ]
  },
  {
   "cell_type": "code",
   "execution_count": 10,
   "id": "49a6c05e",
   "metadata": {},
   "outputs": [],
   "source": [
    "def test_split_generator(X_train, y_train, num_classes, samples_per_class):\n",
    "# This function generates the test size required for train test split \n",
    "    data_array =[] \n",
    "    test_split = []\n",
    "    for i in range(0, num_classes):\n",
    "        X, y = class_wise_data(X_train, y_train, lab = i)\n",
    "        sample_split = []\n",
    "        for j in range(1, samples_per_class + 1):\n",
    "            sample_split.append(1 - np.float(j)/X.shape[0])\n",
    "        test_split.append(sample_split)\n",
    "    return test_split\n"
   ]
  },
  {
   "cell_type": "code",
   "execution_count": 11,
   "id": "7a962ef4",
   "metadata": {},
   "outputs": [],
   "source": [
    "def CHAOSNET(X_train, y_train, X_test, y_test, num_classes, q, a, b, c, length, epsilon):\n",
    "        num_features = X_train.shape[1]\n",
    "        timeseries = iterations(q, a, b, c, length )\n",
    "        test_proba = probability_calculation(X_test, timeseries, b, epsilon)\n",
    "\n",
    "\n",
    "        train_proba = probability_calculation(X_train, timeseries, b, epsilon)\n",
    "        avg_class_dist_1 = np.zeros((num_classes,num_features))\n",
    "\n",
    "        for n_cl in range(0, num_classes):\n",
    "            avg_temp = class_avg_distance(train_proba, y_train, lab = n_cl)\n",
    "            avg_class_dist_1[n_cl,:] = avg_temp\n",
    "    \n",
    "        #avg_class_dist_1 = []\n",
    "        #for n_cl in range(0,num_classes):\n",
    "        #avg_class_dist_1.append(class_avg_distance(train_proba, y_train_subsample, lab = n_cl))\n",
    "        print( \" avg_class_dist_1 = \", avg_class_dist_1)\n",
    "        y_pred_val = cosine_similar_measure(test_proba, y_test, a, b, c, avg_class_dist_1)\n",
    "        accuracy = accuracy_score(y_test, y_pred_val)*100\n",
    "        f1 = f1_score(y_test, y_pred_val, average=\"macro\")\n",
    "        print(\"acc and f1 are\", accuracy, f1 )\n",
    "        return y_pred_val, avg_class_dist_1\n",
    "\n",
    "\n"
   ]
  },
  {
   "cell_type": "code",
   "execution_count": 12,
   "id": "a57492cf",
   "metadata": {},
   "outputs": [],
   "source": [
    "def k_cross_validation(FOLD_NO, X, y, num_classes, q, b, epsilon):\n",
    "    KF = KFold(n_splits= FOLD_NO, shuffle=True) \n",
    "    KF.get_n_splits(X) # returns the number of splitting iterations in the cross-validator\n",
    "    print(KF) \n",
    "    \n",
    "    FSCORE = []\n",
    "    ACCur = []\n",
    "    PRE = []\n",
    "    REC = []\n",
    "\n",
    "\n",
    "\n",
    "            \n",
    "    for TRAIN_INDEX, VAL_INDEX in KF.split(X):\n",
    "\n",
    "        X_TRAIN, X_VAL = X[TRAIN_INDEX], X[VAL_INDEX]\n",
    "        Y_TRAIN, Y_VAL = y[TRAIN_INDEX], y[VAL_INDEX]\n",
    "\n",
    "\n",
    "        Y_PRED, mean_each_class = CHAOSNET( X_TRAIN, Y_TRAIN, X_VAL, Y_VAL, num_classes, q, a, b, c, length, epsilon)\n",
    "        accuracy = accuracy_score(Y_VAL, Y_PRED)*100\n",
    "        #recall = recall_score(Y_VAL, Y_PRED , average=\"macro\")\n",
    "        #precision = precision_score(Y_TRAIN, Y_PRED , average=\"macro\")\n",
    "        f1 = f1_score(Y_VAL, Y_PRED, average=\"macro\")\n",
    "        \n",
    "        FSCORE.append(f1)\n",
    "        ACCur.append(accuracy)\n",
    "        #PRE.append(precision)\n",
    "        #REC.append(recall)\n",
    "    \n",
    "         \n",
    "                 \n",
    "    MAX_FSCORE = np.max(FSCORE)\n",
    "    print(\"BEST F1SCORE\", MAX_FSCORE)\n",
    "    MAX_ACC = np.max(ACCur)\n",
    "    print(\"avg accuracy\", np.mean(ACCur))\n",
    "    print(\"BEST ACCURACY\", MAX_ACC)\n",
    "    print('worst accuracy', min(ACCur))\n",
    "\n",
    "    return\n",
    "\n",
    "\n",
    "    "
   ]
  },
  {
   "cell_type": "code",
   "execution_count": 15,
   "id": "ba27a245",
   "metadata": {
    "scrolled": false
   },
   "outputs": [
    {
     "name": "stdout",
     "output_type": "stream",
     "text": [
      "KFold(n_splits=10, random_state=None, shuffle=True)\n"
     ]
    },
    {
     "name": "stderr",
     "output_type": "stream",
     "text": [
      "C:\\Users\\DEll\\AppData\\Local\\Temp\\ipykernel_18524\\1915800983.py:7: DeprecationWarning: `np.int` is a deprecated alias for the builtin `int`. To silence this warning, use `int` by itself. Doing this will not modify any behavior and is safe. When replacing `np.int`, you may wish to use e.g. `np.int64` or `np.int32` to specify the precision. If you wish to review your current use, check the release note link for additional information.\n",
      "Deprecated in NumPy 1.20; for more details and guidance: https://numpy.org/devdocs/release/1.20.0-notes.html#deprecations\n",
      "  timeseries[i,1] = np.int(i)\n",
      "C:\\Users\\DEll\\AppData\\Local\\Temp\\ipykernel_18524\\1792913062.py:10: DeprecationWarning: `np.int` is a deprecated alias for the builtin `int`. To silence this warning, use `int` by itself. Doing this will not modify any behavior and is safe. When replacing `np.int`, you may wish to use e.g. `np.int64` or `np.int32` to specify the precision. If you wish to review your current use, check the release note link for additional information.\n",
      "Deprecated in NumPy 1.20; for more details and guidance: https://numpy.org/devdocs/release/1.20.0-notes.html#deprecations\n",
      "  freq = (timeseries[0:np.int(timeseries[A.tolist().index(True),1]),0] - b < 0)\n",
      "C:\\Users\\DEll\\AppData\\Local\\Temp\\ipykernel_18524\\1792913062.py:14: DeprecationWarning: `np.float` is a deprecated alias for the builtin `float`. To silence this warning, use `float` by itself. Doing this will not modify any behavior and is safe. If you specifically wanted the numpy scalar type, use `np.float64` here.\n",
      "Deprecated in NumPy 1.20; for more details and guidance: https://numpy.org/devdocs/release/1.20.0-notes.html#deprecations\n",
      "  probability[i,j] = freq.tolist().count(False)/np.float(len(freq))\n"
     ]
    },
    {
     "name": "stdout",
     "output_type": "stream",
     "text": [
      " avg_class_dist_1 =  [[0.16666667 0.12520525 0.14942529 0.12561576 0.13136289 0.16666667\n",
      "  0.0952381  0.12397373 0.0952381 ]\n",
      " [0.15252976 0.16592262 0.1235119  0.11904762 0.14880952 0.12946429\n",
      "  0.12946429 0.13020833 0.140625  ]]\n",
      "acc and f1 are 96.66666666666667 0.9614890885750963\n"
     ]
    },
    {
     "name": "stderr",
     "output_type": "stream",
     "text": [
      "C:\\Users\\DEll\\AppData\\Local\\Temp\\ipykernel_18524\\1915800983.py:7: DeprecationWarning: `np.int` is a deprecated alias for the builtin `int`. To silence this warning, use `int` by itself. Doing this will not modify any behavior and is safe. When replacing `np.int`, you may wish to use e.g. `np.int64` or `np.int32` to specify the precision. If you wish to review your current use, check the release note link for additional information.\n",
      "Deprecated in NumPy 1.20; for more details and guidance: https://numpy.org/devdocs/release/1.20.0-notes.html#deprecations\n",
      "  timeseries[i,1] = np.int(i)\n",
      "C:\\Users\\DEll\\AppData\\Local\\Temp\\ipykernel_18524\\1792913062.py:10: DeprecationWarning: `np.int` is a deprecated alias for the builtin `int`. To silence this warning, use `int` by itself. Doing this will not modify any behavior and is safe. When replacing `np.int`, you may wish to use e.g. `np.int64` or `np.int32` to specify the precision. If you wish to review your current use, check the release note link for additional information.\n",
      "Deprecated in NumPy 1.20; for more details and guidance: https://numpy.org/devdocs/release/1.20.0-notes.html#deprecations\n",
      "  freq = (timeseries[0:np.int(timeseries[A.tolist().index(True),1]),0] - b < 0)\n",
      "C:\\Users\\DEll\\AppData\\Local\\Temp\\ipykernel_18524\\1792913062.py:14: DeprecationWarning: `np.float` is a deprecated alias for the builtin `float`. To silence this warning, use `float` by itself. Doing this will not modify any behavior and is safe. If you specifically wanted the numpy scalar type, use `np.float64` here.\n",
      "Deprecated in NumPy 1.20; for more details and guidance: https://numpy.org/devdocs/release/1.20.0-notes.html#deprecations\n",
      "  probability[i,j] = freq.tolist().count(False)/np.float(len(freq))\n"
     ]
    },
    {
     "name": "stdout",
     "output_type": "stream",
     "text": [
      " avg_class_dist_1 =  [[0.16666667 0.12212413 0.14981273 0.12252541 0.13255752 0.16666667\n",
      "  0.0952381  0.1253344  0.0952381 ]\n",
      " [0.15346791 0.16589027 0.1255176  0.12008282 0.14803313 0.12939959\n",
      "  0.12939959 0.1247412  0.13793996]]\n",
      "acc and f1 are 93.33333333333333 0.9333333333333333\n"
     ]
    },
    {
     "name": "stderr",
     "output_type": "stream",
     "text": [
      "C:\\Users\\DEll\\AppData\\Local\\Temp\\ipykernel_18524\\1915800983.py:7: DeprecationWarning: `np.int` is a deprecated alias for the builtin `int`. To silence this warning, use `int` by itself. Doing this will not modify any behavior and is safe. When replacing `np.int`, you may wish to use e.g. `np.int64` or `np.int32` to specify the precision. If you wish to review your current use, check the release note link for additional information.\n",
      "Deprecated in NumPy 1.20; for more details and guidance: https://numpy.org/devdocs/release/1.20.0-notes.html#deprecations\n",
      "  timeseries[i,1] = np.int(i)\n",
      "C:\\Users\\DEll\\AppData\\Local\\Temp\\ipykernel_18524\\1792913062.py:10: DeprecationWarning: `np.int` is a deprecated alias for the builtin `int`. To silence this warning, use `int` by itself. Doing this will not modify any behavior and is safe. When replacing `np.int`, you may wish to use e.g. `np.int64` or `np.int32` to specify the precision. If you wish to review your current use, check the release note link for additional information.\n",
      "Deprecated in NumPy 1.20; for more details and guidance: https://numpy.org/devdocs/release/1.20.0-notes.html#deprecations\n",
      "  freq = (timeseries[0:np.int(timeseries[A.tolist().index(True),1]),0] - b < 0)\n",
      "C:\\Users\\DEll\\AppData\\Local\\Temp\\ipykernel_18524\\1792913062.py:14: DeprecationWarning: `np.float` is a deprecated alias for the builtin `float`. To silence this warning, use `float` by itself. Doing this will not modify any behavior and is safe. If you specifically wanted the numpy scalar type, use `np.float64` here.\n",
      "Deprecated in NumPy 1.20; for more details and guidance: https://numpy.org/devdocs/release/1.20.0-notes.html#deprecations\n",
      "  probability[i,j] = freq.tolist().count(False)/np.float(len(freq))\n"
     ]
    },
    {
     "name": "stdout",
     "output_type": "stream",
     "text": [
      " avg_class_dist_1 =  [[0.16666667 0.12317106 0.14791168 0.12317106 0.13514233 0.16666667\n",
      "  0.0952381  0.1235701  0.0952381 ]\n",
      " [0.15332287 0.16588174 0.12349555 0.11643119 0.14861329 0.13055992\n",
      "  0.13055992 0.12585034 0.13919414]]\n",
      "acc and f1 are 83.33333333333334 0.8285714285714285\n"
     ]
    },
    {
     "name": "stderr",
     "output_type": "stream",
     "text": [
      "C:\\Users\\DEll\\AppData\\Local\\Temp\\ipykernel_18524\\1915800983.py:7: DeprecationWarning: `np.int` is a deprecated alias for the builtin `int`. To silence this warning, use `int` by itself. Doing this will not modify any behavior and is safe. When replacing `np.int`, you may wish to use e.g. `np.int64` or `np.int32` to specify the precision. If you wish to review your current use, check the release note link for additional information.\n",
      "Deprecated in NumPy 1.20; for more details and guidance: https://numpy.org/devdocs/release/1.20.0-notes.html#deprecations\n",
      "  timeseries[i,1] = np.int(i)\n",
      "C:\\Users\\DEll\\AppData\\Local\\Temp\\ipykernel_18524\\1792913062.py:10: DeprecationWarning: `np.int` is a deprecated alias for the builtin `int`. To silence this warning, use `int` by itself. Doing this will not modify any behavior and is safe. When replacing `np.int`, you may wish to use e.g. `np.int64` or `np.int32` to specify the precision. If you wish to review your current use, check the release note link for additional information.\n",
      "Deprecated in NumPy 1.20; for more details and guidance: https://numpy.org/devdocs/release/1.20.0-notes.html#deprecations\n",
      "  freq = (timeseries[0:np.int(timeseries[A.tolist().index(True),1]),0] - b < 0)\n",
      "C:\\Users\\DEll\\AppData\\Local\\Temp\\ipykernel_18524\\1792913062.py:14: DeprecationWarning: `np.float` is a deprecated alias for the builtin `float`. To silence this warning, use `float` by itself. Doing this will not modify any behavior and is safe. If you specifically wanted the numpy scalar type, use `np.float64` here.\n",
      "Deprecated in NumPy 1.20; for more details and guidance: https://numpy.org/devdocs/release/1.20.0-notes.html#deprecations\n",
      "  probability[i,j] = freq.tolist().count(False)/np.float(len(freq))\n"
     ]
    },
    {
     "name": "stdout",
     "output_type": "stream",
     "text": [
      " avg_class_dist_1 =  [[0.16666667 0.12372695 0.14932563 0.12413983 0.13281035 0.16666667\n",
      "  0.0952381  0.12372695 0.0952381 ]\n",
      " [0.15488463 0.16593029 0.12322042 0.11953854 0.14973    0.12690231\n",
      "  0.12616593 0.12616593 0.14015709]]\n",
      "acc and f1 are 100.0 1.0\n"
     ]
    },
    {
     "name": "stderr",
     "output_type": "stream",
     "text": [
      "C:\\Users\\DEll\\AppData\\Local\\Temp\\ipykernel_18524\\1915800983.py:7: DeprecationWarning: `np.int` is a deprecated alias for the builtin `int`. To silence this warning, use `int` by itself. Doing this will not modify any behavior and is safe. When replacing `np.int`, you may wish to use e.g. `np.int64` or `np.int32` to specify the precision. If you wish to review your current use, check the release note link for additional information.\n",
      "Deprecated in NumPy 1.20; for more details and guidance: https://numpy.org/devdocs/release/1.20.0-notes.html#deprecations\n",
      "  timeseries[i,1] = np.int(i)\n",
      "C:\\Users\\DEll\\AppData\\Local\\Temp\\ipykernel_18524\\1792913062.py:10: DeprecationWarning: `np.int` is a deprecated alias for the builtin `int`. To silence this warning, use `int` by itself. Doing this will not modify any behavior and is safe. When replacing `np.int`, you may wish to use e.g. `np.int64` or `np.int32` to specify the precision. If you wish to review your current use, check the release note link for additional information.\n",
      "Deprecated in NumPy 1.20; for more details and guidance: https://numpy.org/devdocs/release/1.20.0-notes.html#deprecations\n",
      "  freq = (timeseries[0:np.int(timeseries[A.tolist().index(True),1]),0] - b < 0)\n",
      "C:\\Users\\DEll\\AppData\\Local\\Temp\\ipykernel_18524\\1792913062.py:14: DeprecationWarning: `np.float` is a deprecated alias for the builtin `float`. To silence this warning, use `float` by itself. Doing this will not modify any behavior and is safe. If you specifically wanted the numpy scalar type, use `np.float64` here.\n",
      "Deprecated in NumPy 1.20; for more details and guidance: https://numpy.org/devdocs/release/1.20.0-notes.html#deprecations\n",
      "  probability[i,j] = freq.tolist().count(False)/np.float(len(freq))\n"
     ]
    },
    {
     "name": "stdout",
     "output_type": "stream",
     "text": [
      " avg_class_dist_1 =  [[0.16666667 0.12438424 0.14942529 0.12479475 0.13341544 0.16666667\n",
      "  0.0952381  0.12479475 0.0952381 ]\n",
      " [0.15327381 0.16592262 0.125      0.11755952 0.14732143 0.13095238\n",
      "  0.12946429 0.12872024 0.13988095]]\n",
      "acc and f1 are 96.66666666666667 0.9614890885750963\n"
     ]
    },
    {
     "name": "stderr",
     "output_type": "stream",
     "text": [
      "C:\\Users\\DEll\\AppData\\Local\\Temp\\ipykernel_18524\\1915800983.py:7: DeprecationWarning: `np.int` is a deprecated alias for the builtin `int`. To silence this warning, use `int` by itself. Doing this will not modify any behavior and is safe. When replacing `np.int`, you may wish to use e.g. `np.int64` or `np.int32` to specify the precision. If you wish to review your current use, check the release note link for additional information.\n",
      "Deprecated in NumPy 1.20; for more details and guidance: https://numpy.org/devdocs/release/1.20.0-notes.html#deprecations\n",
      "  timeseries[i,1] = np.int(i)\n",
      "C:\\Users\\DEll\\AppData\\Local\\Temp\\ipykernel_18524\\1792913062.py:10: DeprecationWarning: `np.int` is a deprecated alias for the builtin `int`. To silence this warning, use `int` by itself. Doing this will not modify any behavior and is safe. When replacing `np.int`, you may wish to use e.g. `np.int64` or `np.int32` to specify the precision. If you wish to review your current use, check the release note link for additional information.\n",
      "Deprecated in NumPy 1.20; for more details and guidance: https://numpy.org/devdocs/release/1.20.0-notes.html#deprecations\n",
      "  freq = (timeseries[0:np.int(timeseries[A.tolist().index(True),1]),0] - b < 0)\n",
      "C:\\Users\\DEll\\AppData\\Local\\Temp\\ipykernel_18524\\1792913062.py:14: DeprecationWarning: `np.float` is a deprecated alias for the builtin `float`. To silence this warning, use `float` by itself. Doing this will not modify any behavior and is safe. If you specifically wanted the numpy scalar type, use `np.float64` here.\n",
      "Deprecated in NumPy 1.20; for more details and guidance: https://numpy.org/devdocs/release/1.20.0-notes.html#deprecations\n",
      "  probability[i,j] = freq.tolist().count(False)/np.float(len(freq))\n"
     ]
    },
    {
     "name": "stdout",
     "output_type": "stream",
     "text": [
      " avg_class_dist_1 =  [[0.16666667 0.12290118 0.1476741  0.12331407 0.13322323 0.16666667\n",
      "  0.0952381  0.12331407 0.0952381 ]\n",
      " [0.15341188 0.16666667 0.12469318 0.11953854 0.14973    0.13058419\n",
      "  0.12763868 0.12616593 0.13721159]]\n",
      "acc and f1 are 100.0 1.0\n"
     ]
    },
    {
     "name": "stderr",
     "output_type": "stream",
     "text": [
      "C:\\Users\\DEll\\AppData\\Local\\Temp\\ipykernel_18524\\1915800983.py:7: DeprecationWarning: `np.int` is a deprecated alias for the builtin `int`. To silence this warning, use `int` by itself. Doing this will not modify any behavior and is safe. When replacing `np.int`, you may wish to use e.g. `np.int64` or `np.int32` to specify the precision. If you wish to review your current use, check the release note link for additional information.\n",
      "Deprecated in NumPy 1.20; for more details and guidance: https://numpy.org/devdocs/release/1.20.0-notes.html#deprecations\n",
      "  timeseries[i,1] = np.int(i)\n",
      "C:\\Users\\DEll\\AppData\\Local\\Temp\\ipykernel_18524\\1792913062.py:10: DeprecationWarning: `np.int` is a deprecated alias for the builtin `int`. To silence this warning, use `int` by itself. Doing this will not modify any behavior and is safe. When replacing `np.int`, you may wish to use e.g. `np.int64` or `np.int32` to specify the precision. If you wish to review your current use, check the release note link for additional information.\n",
      "Deprecated in NumPy 1.20; for more details and guidance: https://numpy.org/devdocs/release/1.20.0-notes.html#deprecations\n",
      "  freq = (timeseries[0:np.int(timeseries[A.tolist().index(True),1]),0] - b < 0)\n",
      "C:\\Users\\DEll\\AppData\\Local\\Temp\\ipykernel_18524\\1792913062.py:14: DeprecationWarning: `np.float` is a deprecated alias for the builtin `float`. To silence this warning, use `float` by itself. Doing this will not modify any behavior and is safe. If you specifically wanted the numpy scalar type, use `np.float64` here.\n",
      "Deprecated in NumPy 1.20; for more details and guidance: https://numpy.org/devdocs/release/1.20.0-notes.html#deprecations\n",
      "  probability[i,j] = freq.tolist().count(False)/np.float(len(freq))\n"
     ]
    },
    {
     "name": "stdout",
     "output_type": "stream",
     "text": [
      " avg_class_dist_1 =  [[0.16666667 0.12348668 0.14931396 0.12389023 0.13317191 0.16666667\n",
      "  0.0952381  0.12389023 0.0952381 ]\n",
      " [0.15207373 0.16589862 0.12365591 0.11904762 0.14900154 0.12672811\n",
      "  0.13056836 0.12672811 0.1390169 ]]\n",
      "acc and f1 are 90.0 0.8942420681551116\n"
     ]
    },
    {
     "name": "stderr",
     "output_type": "stream",
     "text": [
      "C:\\Users\\DEll\\AppData\\Local\\Temp\\ipykernel_18524\\1915800983.py:7: DeprecationWarning: `np.int` is a deprecated alias for the builtin `int`. To silence this warning, use `int` by itself. Doing this will not modify any behavior and is safe. When replacing `np.int`, you may wish to use e.g. `np.int64` or `np.int32` to specify the precision. If you wish to review your current use, check the release note link for additional information.\n",
      "Deprecated in NumPy 1.20; for more details and guidance: https://numpy.org/devdocs/release/1.20.0-notes.html#deprecations\n",
      "  timeseries[i,1] = np.int(i)\n",
      "C:\\Users\\DEll\\AppData\\Local\\Temp\\ipykernel_18524\\1792913062.py:10: DeprecationWarning: `np.int` is a deprecated alias for the builtin `int`. To silence this warning, use `int` by itself. Doing this will not modify any behavior and is safe. When replacing `np.int`, you may wish to use e.g. `np.int64` or `np.int32` to specify the precision. If you wish to review your current use, check the release note link for additional information.\n",
      "Deprecated in NumPy 1.20; for more details and guidance: https://numpy.org/devdocs/release/1.20.0-notes.html#deprecations\n",
      "  freq = (timeseries[0:np.int(timeseries[A.tolist().index(True),1]),0] - b < 0)\n",
      "C:\\Users\\DEll\\AppData\\Local\\Temp\\ipykernel_18524\\1792913062.py:14: DeprecationWarning: `np.float` is a deprecated alias for the builtin `float`. To silence this warning, use `float` by itself. Doing this will not modify any behavior and is safe. If you specifically wanted the numpy scalar type, use `np.float64` here.\n",
      "Deprecated in NumPy 1.20; for more details and guidance: https://numpy.org/devdocs/release/1.20.0-notes.html#deprecations\n",
      "  probability[i,j] = freq.tolist().count(False)/np.float(len(freq))\n"
     ]
    },
    {
     "name": "stdout",
     "output_type": "stream",
     "text": [
      " avg_class_dist_1 =  [[0.16666667 0.12364244 0.14786967 0.12406015 0.13408521 0.16666667\n",
      "  0.0952381  0.12280702 0.0952381 ]\n",
      " [0.15295815 0.16594517 0.12337662 0.11760462 0.14862915 0.12842713\n",
      "  0.12770563 0.12698413 0.13924964]]\n",
      "acc and f1 are 96.66666666666667 0.9509001636661211\n"
     ]
    },
    {
     "name": "stderr",
     "output_type": "stream",
     "text": [
      "C:\\Users\\DEll\\AppData\\Local\\Temp\\ipykernel_18524\\1915800983.py:7: DeprecationWarning: `np.int` is a deprecated alias for the builtin `int`. To silence this warning, use `int` by itself. Doing this will not modify any behavior and is safe. When replacing `np.int`, you may wish to use e.g. `np.int64` or `np.int32` to specify the precision. If you wish to review your current use, check the release note link for additional information.\n",
      "Deprecated in NumPy 1.20; for more details and guidance: https://numpy.org/devdocs/release/1.20.0-notes.html#deprecations\n",
      "  timeseries[i,1] = np.int(i)\n",
      "C:\\Users\\DEll\\AppData\\Local\\Temp\\ipykernel_18524\\1792913062.py:10: DeprecationWarning: `np.int` is a deprecated alias for the builtin `int`. To silence this warning, use `int` by itself. Doing this will not modify any behavior and is safe. When replacing `np.int`, you may wish to use e.g. `np.int64` or `np.int32` to specify the precision. If you wish to review your current use, check the release note link for additional information.\n",
      "Deprecated in NumPy 1.20; for more details and guidance: https://numpy.org/devdocs/release/1.20.0-notes.html#deprecations\n",
      "  freq = (timeseries[0:np.int(timeseries[A.tolist().index(True),1]),0] - b < 0)\n",
      "C:\\Users\\DEll\\AppData\\Local\\Temp\\ipykernel_18524\\1792913062.py:14: DeprecationWarning: `np.float` is a deprecated alias for the builtin `float`. To silence this warning, use `float` by itself. Doing this will not modify any behavior and is safe. If you specifically wanted the numpy scalar type, use `np.float64` here.\n",
      "Deprecated in NumPy 1.20; for more details and guidance: https://numpy.org/devdocs/release/1.20.0-notes.html#deprecations\n",
      "  probability[i,j] = freq.tolist().count(False)/np.float(len(freq))\n"
     ]
    },
    {
     "name": "stdout",
     "output_type": "stream",
     "text": [
      " avg_class_dist_1 =  [[0.16666667 0.12464986 0.14943978 0.12507003 0.13347339 0.16666667\n",
      "  0.0952381  0.12422969 0.0952381 ]\n",
      " [0.15309524 0.16595238 0.1252381  0.11952381 0.14809524 0.12880952\n",
      "  0.12952381 0.12809524 0.1402381 ]]\n",
      "acc and f1 are 100.0 1.0\n"
     ]
    },
    {
     "name": "stderr",
     "output_type": "stream",
     "text": [
      "C:\\Users\\DEll\\AppData\\Local\\Temp\\ipykernel_18524\\1915800983.py:7: DeprecationWarning: `np.int` is a deprecated alias for the builtin `int`. To silence this warning, use `int` by itself. Doing this will not modify any behavior and is safe. When replacing `np.int`, you may wish to use e.g. `np.int64` or `np.int32` to specify the precision. If you wish to review your current use, check the release note link for additional information.\n",
      "Deprecated in NumPy 1.20; for more details and guidance: https://numpy.org/devdocs/release/1.20.0-notes.html#deprecations\n",
      "  timeseries[i,1] = np.int(i)\n",
      "C:\\Users\\DEll\\AppData\\Local\\Temp\\ipykernel_18524\\1792913062.py:10: DeprecationWarning: `np.int` is a deprecated alias for the builtin `int`. To silence this warning, use `int` by itself. Doing this will not modify any behavior and is safe. When replacing `np.int`, you may wish to use e.g. `np.int64` or `np.int32` to specify the precision. If you wish to review your current use, check the release note link for additional information.\n",
      "Deprecated in NumPy 1.20; for more details and guidance: https://numpy.org/devdocs/release/1.20.0-notes.html#deprecations\n",
      "  freq = (timeseries[0:np.int(timeseries[A.tolist().index(True),1]),0] - b < 0)\n",
      "C:\\Users\\DEll\\AppData\\Local\\Temp\\ipykernel_18524\\1792913062.py:14: DeprecationWarning: `np.float` is a deprecated alias for the builtin `float`. To silence this warning, use `float` by itself. Doing this will not modify any behavior and is safe. If you specifically wanted the numpy scalar type, use `np.float64` here.\n",
      "Deprecated in NumPy 1.20; for more details and guidance: https://numpy.org/devdocs/release/1.20.0-notes.html#deprecations\n",
      "  probability[i,j] = freq.tolist().count(False)/np.float(len(freq))\n"
     ]
    },
    {
     "name": "stdout",
     "output_type": "stream",
     "text": [
      " avg_class_dist_1 =  [[0.16666667 0.12267958 0.14971751 0.12308313 0.13236481 0.16666667\n",
      "  0.0952381  0.12389023 0.0952381 ]\n",
      " [0.15284178 0.16589862 0.12442396 0.11981567 0.14669739 0.12749616\n",
      "  0.12903226 0.12519201 0.13671275]]\n",
      "acc and f1 are 96.66666666666667 0.9657142857142857\n",
      "BEST F1SCORE 1.0\n",
      "avg accuracy 95.33333333333334\n",
      "BEST ACCURACY 100.0\n",
      "worst accuracy 83.33333333333334\n"
     ]
    }
   ],
   "source": [
    "data = pd.read_csv(\"C:/Users/DEll/Desktop/chaosnet/ChaosNet-master/Datas/hypoprotein.csv\")\n",
    "data_name = \"hy.csv\"\n",
    "data = np.array(data)\n",
    "y = np.array(data[:,-1])\n",
    "X = np.array(data[:,0:-1])\n",
    "y = y.reshape(len(y),1)\n",
    "\n",
    "a, b, c, q, length, num_classes, epsilon, FOLD_NO = parameter_file(data_name)\n",
    "\n",
    "k_cross_validation(FOLD_NO, X, y, num_classes, q, b, epsilon)\n"
   ]
  },
  {
   "cell_type": "code",
   "execution_count": null,
   "id": "ab3af0a5",
   "metadata": {},
   "outputs": [],
   "source": []
  },
  {
   "cell_type": "code",
   "execution_count": null,
   "id": "20ddc01e",
   "metadata": {},
   "outputs": [],
   "source": []
  },
  {
   "cell_type": "code",
   "execution_count": null,
   "id": "2cdf83ef",
   "metadata": {},
   "outputs": [],
   "source": []
  }
 ],
 "metadata": {
  "kernelspec": {
   "display_name": "Python 3 (ipykernel)",
   "language": "python",
   "name": "python3"
  },
  "language_info": {
   "codemirror_mode": {
    "name": "ipython",
    "version": 3
   },
   "file_extension": ".py",
   "mimetype": "text/x-python",
   "name": "python",
   "nbconvert_exporter": "python",
   "pygments_lexer": "ipython3",
   "version": "3.9.12"
  }
 },
 "nbformat": 4,
 "nbformat_minor": 5
}
